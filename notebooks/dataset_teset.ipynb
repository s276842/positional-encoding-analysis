{
 "cells": [
  {
   "cell_type": "code",
   "execution_count": 1,
   "metadata": {},
   "outputs": [
    {
     "name": "stderr",
     "output_type": "stream",
     "text": [
      "/nfs/home/marquez/positional-encoding-analysis/.venv/lib/python3.10/site-packages/tqdm/auto.py:21: TqdmWarning: IProgress not found. Please update jupyter and ipywidgets. See https://ipywidgets.readthedocs.io/en/stable/user_install.html\n",
      "  from .autonotebook import tqdm as notebook_tqdm\n"
     ]
    }
   ],
   "source": [
    "from datasets import Dataset, DatasetBuilder, DatasetInfo, DatasetDict\n",
    "from datasets import load_dataset, load_dataset_builder\n",
    "from datasets import TextClassification, Features, ClassLabel"
   ]
  },
  {
   "cell_type": "code",
   "execution_count": 3,
   "metadata": {},
   "outputs": [
    {
     "name": "stdout",
     "output_type": "stream",
     "text": [
      "Downloading and preparing dataset cnn_dailymail/3.0.0 to /nfs/home/marquez/.cache/huggingface/datasets/cnn_dailymail/3.0.0/3.0.0/1b3c71476f6d152c31c1730e83ccb08bcf23e348233f4fcc11e182248e6bf7de...\n"
     ]
    },
    {
     "name": "stderr",
     "output_type": "stream",
     "text": [
      "Downloading data: 100%|██████████| 159M/159M [00:01<00:00, 90.2MB/s]\n",
      "Downloading data: 100%|██████████| 376M/376M [00:03<00:00, 104MB/s]t]\n",
      "Downloading data: 46.4MB [00:00, 95.0MB/s]/5 [00:07<00:12,  4.02s/it]\n",
      "Downloading data: 2.43MB [00:00, 32.5MB/s]                  2.61s/it]\n",
      "Downloading data: 2.11MB [00:00, 29.5MB/s]                  1.79s/it]\n",
      "Downloading data files: 100%|██████████| 5/5 [00:09<00:00,  1.94s/it]\n",
      "                                                                                           "
     ]
    },
    {
     "name": "stdout",
     "output_type": "stream",
     "text": [
      "Dataset cnn_dailymail downloaded and prepared to /nfs/home/marquez/.cache/huggingface/datasets/cnn_dailymail/3.0.0/3.0.0/1b3c71476f6d152c31c1730e83ccb08bcf23e348233f4fcc11e182248e6bf7de. Subsequent calls will reuse this data.\n"
     ]
    },
    {
     "name": "stderr",
     "output_type": "stream",
     "text": [
      "\r"
     ]
    },
    {
     "data": {
      "text/plain": [
       "{'article': Value(dtype='string', id=None),\n",
       " 'highlights': Value(dtype='string', id=None),\n",
       " 'id': Value(dtype='string', id=None)}"
      ]
     },
     "execution_count": 3,
     "metadata": {},
     "output_type": "execute_result"
    }
   ],
   "source": [
    "ds = load_dataset('cnn_dailymail', '3.0.0', split='train')\n",
    "ds.features"
   ]
  },
  {
   "cell_type": "code",
   "execution_count": 16,
   "metadata": {},
   "outputs": [],
   "source": [
    "cl = ClassLabel(num_classes=2, names=['positive', 'negative'])"
   ]
  },
  {
   "cell_type": "code",
   "execution_count": 34,
   "metadata": {},
   "outputs": [
    {
     "ename": "FrozenInstanceError",
     "evalue": "cannot assign to field 'label_column'",
     "output_type": "error",
     "traceback": [
      "\u001B[0;31m---------------------------------------------------------------------------\u001B[0m",
      "\u001B[0;31mFrozenInstanceError\u001B[0m                       Traceback (most recent call last)",
      "Cell \u001B[0;32mIn[34], line 6\u001B[0m\n\u001B[1;32m      1\u001B[0m fs \u001B[39m=\u001B[39m Features({\n\u001B[1;32m      2\u001B[0m     \u001B[39m\"\u001B[39m\u001B[39mtext\u001B[39m\u001B[39m\"\u001B[39m: \u001B[39mstr\u001B[39m,\n\u001B[1;32m      3\u001B[0m     \u001B[39m\"\u001B[39m\u001B[39mlabels\u001B[39m\u001B[39m\"\u001B[39m: cl\n\u001B[1;32m      4\u001B[0m })\n\u001B[1;32m      5\u001B[0m tc \u001B[39m=\u001B[39m TextClassification()\n\u001B[0;32m----> 6\u001B[0m tc\u001B[39m.\u001B[39;49mlabel_column \u001B[39m=\u001B[39m \u001B[39m'\u001B[39m\u001B[39mhello\u001B[39m\u001B[39m'\u001B[39m\n\u001B[1;32m      7\u001B[0m tc\u001B[39m.\u001B[39malign_with_features(fs)\n",
      "File \u001B[0;32m<string>:4\u001B[0m, in \u001B[0;36m__setattr__\u001B[0;34m(self, name, value)\u001B[0m\n",
      "\u001B[0;31mFrozenInstanceError\u001B[0m: cannot assign to field 'label_column'"
     ]
    }
   ],
   "source": [
    "fs = Features({\n",
    "    \"text\": str,\n",
    "    \"labels\": cl\n",
    "})\n",
    "tc = TextClassification()\n",
    "tc.label_column = 'hello'\n",
    "tc.align_with_features(fs)"
   ]
  },
  {
   "cell_type": "code",
   "execution_count": 50,
   "metadata": {},
   "outputs": [],
   "source": [
    "class CustomDataset():\n",
    "    def __init__(\n",
    "        self,\n",
    "        name: str,\n",
    "    ):\n",
    "        self.dataset = load_dataset('amazon_us_reviews', 'Gift_Card_v1_00', split='train')\n",
    "        self.textual_fields = []\n",
    "        self.label_fields = []\n",
    "        for k, v in self.dataset.features.items():\n",
    "            if type(v) == ClassLabel:\n",
    "                self.label_fields.append(k)\n",
    "            elif v.dtype == \"string\":\n",
    "                self.textual_fields.append(k)\n",
    "        "
   ]
  },
  {
   "cell_type": "code",
   "execution_count": 53,
   "metadata": {},
   "outputs": [
    {
     "name": "stderr",
     "output_type": "stream",
     "text": [
      "Found cached dataset amazon_us_reviews (/nfs/home/marquez/.cache/huggingface/datasets/amazon_us_reviews/Gift_Card_v1_00/0.1.0/17b2481be59723469538adeb8fd0a68b0ba363bbbdd71090e72c325ee6c7e563)\n"
     ]
    },
    {
     "data": {
      "text/plain": [
       "['vine', 'verified_purchase']"
      ]
     },
     "execution_count": 53,
     "metadata": {},
     "output_type": "execute_result"
    }
   ],
   "source": [
    "cds = CustomDataset('')\n",
    "cds.label_fields"
   ]
  }
 ],
 "metadata": {
  "kernelspec": {
   "display_name": ".venv",
   "language": "python",
   "name": "python3"
  },
  "language_info": {
   "codemirror_mode": {
    "name": "ipython",
    "version": 3
   },
   "file_extension": ".py",
   "mimetype": "text/x-python",
   "name": "python",
   "nbconvert_exporter": "python",
   "pygments_lexer": "ipython3",
   "version": "3.10.6"
  },
  "orig_nbformat": 4
 },
 "nbformat": 4,
 "nbformat_minor": 2
}
