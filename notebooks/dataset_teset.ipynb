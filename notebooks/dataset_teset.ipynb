{
 "cells": [
  {
   "cell_type": "code",
   "execution_count": 15,
   "metadata": {},
   "outputs": [],
   "source": [
    "from datasets import Dataset, DatasetBuilder, DatasetInfo, DatasetDict\n",
    "from datasets import load_dataset, load_dataset_builder\n",
    "from datasets import TextClassification, Features, ClassLabel"
   ]
  },
  {
   "attachments": {},
   "cell_type": "markdown",
   "metadata": {},
   "source": []
  },
  {
   "cell_type": "code",
   "execution_count": 48,
   "metadata": {},
   "outputs": [
    {
     "name": "stderr",
     "output_type": "stream",
     "text": [
      "Found cached dataset amazon_us_reviews (/nfs/home/marquez/.cache/huggingface/datasets/amazon_us_reviews/Gift_Card_v1_00/0.1.0/17b2481be59723469538adeb8fd0a68b0ba363bbbdd71090e72c325ee6c7e563)\n"
     ]
    },
    {
     "data": {
      "text/plain": [
       "{'marketplace': Value(dtype='string', id=None),\n",
       " 'customer_id': Value(dtype='string', id=None),\n",
       " 'review_id': Value(dtype='string', id=None),\n",
       " 'product_id': Value(dtype='string', id=None),\n",
       " 'product_parent': Value(dtype='string', id=None),\n",
       " 'product_title': Value(dtype='string', id=None),\n",
       " 'product_category': Value(dtype='string', id=None),\n",
       " 'star_rating': Value(dtype='int32', id=None),\n",
       " 'helpful_votes': Value(dtype='int32', id=None),\n",
       " 'total_votes': Value(dtype='int32', id=None),\n",
       " 'vine': ClassLabel(names=['N', 'Y'], id=None),\n",
       " 'verified_purchase': ClassLabel(names=['N', 'Y'], id=None),\n",
       " 'review_headline': Value(dtype='string', id=None),\n",
       " 'review_body': Value(dtype='string', id=None),\n",
       " 'review_date': Value(dtype='string', id=None)}"
      ]
     },
     "execution_count": 48,
     "metadata": {},
     "output_type": "execute_result"
    }
   ],
   "source": [
    "ds = load_dataset('amazon_us_reviews', 'Gift_Card_v1_00', split='train')\n",
    "ds.features"
   ]
  },
  {
   "cell_type": "code",
   "execution_count": 16,
   "metadata": {},
   "outputs": [],
   "source": [
    "cl = ClassLabel(num_classes=2, names=['positive', 'negative'])"
   ]
  },
  {
   "cell_type": "code",
   "execution_count": 34,
   "metadata": {},
   "outputs": [
    {
     "ename": "FrozenInstanceError",
     "evalue": "cannot assign to field 'label_column'",
     "output_type": "error",
     "traceback": [
      "\u001b[0;31m---------------------------------------------------------------------------\u001b[0m",
      "\u001b[0;31mFrozenInstanceError\u001b[0m                       Traceback (most recent call last)",
      "Cell \u001b[0;32mIn[34], line 6\u001b[0m\n\u001b[1;32m      1\u001b[0m fs \u001b[39m=\u001b[39m Features({\n\u001b[1;32m      2\u001b[0m     \u001b[39m\"\u001b[39m\u001b[39mtext\u001b[39m\u001b[39m\"\u001b[39m: \u001b[39mstr\u001b[39m,\n\u001b[1;32m      3\u001b[0m     \u001b[39m\"\u001b[39m\u001b[39mlabels\u001b[39m\u001b[39m\"\u001b[39m: cl\n\u001b[1;32m      4\u001b[0m })\n\u001b[1;32m      5\u001b[0m tc \u001b[39m=\u001b[39m TextClassification()\n\u001b[0;32m----> 6\u001b[0m tc\u001b[39m.\u001b[39;49mlabel_column \u001b[39m=\u001b[39m \u001b[39m'\u001b[39m\u001b[39mhello\u001b[39m\u001b[39m'\u001b[39m\n\u001b[1;32m      7\u001b[0m tc\u001b[39m.\u001b[39malign_with_features(fs)\n",
      "File \u001b[0;32m<string>:4\u001b[0m, in \u001b[0;36m__setattr__\u001b[0;34m(self, name, value)\u001b[0m\n",
      "\u001b[0;31mFrozenInstanceError\u001b[0m: cannot assign to field 'label_column'"
     ]
    }
   ],
   "source": [
    "\n",
    "\n",
    "fs = Features({\n",
    "    \"text\": str,\n",
    "    \"labels\": cl\n",
    "})\n",
    "tc = TextClassification()\n",
    "tc.label_column = 'hello'\n",
    "tc.align_with_features(fs)"
   ]
  },
  {
   "cell_type": "code",
   "execution_count": 50,
   "metadata": {},
   "outputs": [],
   "source": [
    "class CustomDataset():\n",
    "    def __init__(\n",
    "        self,\n",
    "        name: str,\n",
    "    ):\n",
    "        self.dataset = load_dataset('amazon_us_reviews', 'Gift_Card_v1_00', split='train')\n",
    "        self.textual_fields = []\n",
    "        self.label_fields = []\n",
    "        for k, v in self.dataset.features.items():\n",
    "            if type(v) == ClassLabel:\n",
    "                self.label_fields.append(k)\n",
    "            elif v.dtype == \"string\":\n",
    "                self.textual_fields.append(k)\n",
    "        "
   ]
  },
  {
   "cell_type": "code",
   "execution_count": 53,
   "metadata": {},
   "outputs": [
    {
     "name": "stderr",
     "output_type": "stream",
     "text": [
      "Found cached dataset amazon_us_reviews (/nfs/home/marquez/.cache/huggingface/datasets/amazon_us_reviews/Gift_Card_v1_00/0.1.0/17b2481be59723469538adeb8fd0a68b0ba363bbbdd71090e72c325ee6c7e563)\n"
     ]
    },
    {
     "data": {
      "text/plain": [
       "['vine', 'verified_purchase']"
      ]
     },
     "execution_count": 53,
     "metadata": {},
     "output_type": "execute_result"
    }
   ],
   "source": [
    "cds = CustomDataset('')\n",
    "cds.label_fields"
   ]
  }
 ],
 "metadata": {
  "kernelspec": {
   "display_name": ".venv",
   "language": "python",
   "name": "python3"
  },
  "language_info": {
   "codemirror_mode": {
    "name": "ipython",
    "version": 3
   },
   "file_extension": ".py",
   "mimetype": "text/x-python",
   "name": "python",
   "nbconvert_exporter": "python",
   "pygments_lexer": "ipython3",
   "version": "3.10.6"
  },
  "orig_nbformat": 4
 },
 "nbformat": 4,
 "nbformat_minor": 2
}
